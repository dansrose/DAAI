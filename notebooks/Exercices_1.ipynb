{
  "cells": [
    {
      "cell_type": "code",
      "execution_count": null,
      "id": "c59671d4",
      "metadata": {
        "id": "c59671d4"
      },
      "outputs": [],
      "source": [
        "#\n",
        "Name :\n",
        "E-mail :"
      ]
    },
    {
      "cell_type": "markdown",
      "id": "02c17d6e-5f3e-449d-b8e3-7748c47dfe50",
      "metadata": {
        "id": "02c17d6e-5f3e-449d-b8e3-7748c47dfe50"
      },
      "source": [
        "### default module import"
      ]
    },
    {
      "cell_type": "code",
      "execution_count": null,
      "id": "4ba0f669-b5df-4698-9151-ed3cabe6a157",
      "metadata": {
        "id": "4ba0f669-b5df-4698-9151-ed3cabe6a157"
      },
      "outputs": [],
      "source": [
        "import pandas as pd\n",
        "import numpy as np\n",
        "import matplotlib.pyplot as plt\n",
        "\n",
        "# for the data splitting\n",
        "from sklearn.model_selection import train_test_split"
      ]
    },
    {
      "cell_type": "markdown",
      "id": "30585783-902f-4f5e-9dea-7fedeb736f17",
      "metadata": {
        "id": "30585783-902f-4f5e-9dea-7fedeb736f17"
      },
      "source": [
        "### data generation"
      ]
    },
    {
      "cell_type": "code",
      "execution_count": 59,
      "id": "bce2cbb8-4887-403c-a787-24fe3b78e838",
      "metadata": {
        "id": "bce2cbb8-4887-403c-a787-24fe3b78e838"
      },
      "outputs": [],
      "source": [
        "RANDOM_GEM = np.random.default_rng()"
      ]
    },
    {
      "cell_type": "code",
      "execution_count": null,
      "id": "05e1d8c3-6736-42b3-8966-ec1fba34a32b",
      "metadata": {
        "id": "05e1d8c3-6736-42b3-8966-ec1fba34a32b"
      },
      "outputs": [],
      "source": []
    },
    {
      "cell_type": "code",
      "execution_count": 58,
      "id": "5c24f227-0b21-40dc-8583-88f0413152fd",
      "metadata": {
        "id": "5c24f227-0b21-40dc-8583-88f0413152fd"
      },
      "outputs": [],
      "source": [
        "# code for the function to compute the gamma\n",
        "def compute_gamma(kx,ky,chi_perp,chi_par,curvature):\n",
        "    k_perp = np.sqrt(kx**2+ky**2)\n",
        "    gamma_0 = np.sqrt(1-curvature)*ky/k_perp\n",
        "    gamma = gamma_0 - chi_perp*ky**2-np.sqrt(chi_perp*chi_par)*ky\n",
        "    return gamma\n"
      ]
    },
    {
      "cell_type": "code",
      "execution_count": 57,
      "id": "249b5174-8d4e-4f85-8fc4-b9210489f8ce",
      "metadata": {
        "id": "249b5174-8d4e-4f85-8fc4-b9210489f8ce"
      },
      "outputs": [],
      "source": [
        "# code for the function to generate a data sample\n",
        "def generate_sample():\n",
        "  kx = RANDOM_GEM.uniform(np.pi/1024,np.pi)\n",
        "  ky = RANDOM_GEM.uniform(np.pi/1024,np.pi/2)\n",
        "  chi_perp = RANDOM_GEM.uniform(1e-4,1)\n",
        "  chi_par = RANDOM_GEM.uniform(0,.5)\n",
        "  curvature = RANDOM_GEM.uniform(0,1)\n",
        "  return (kx,ky,chi_perp,chi_par,curvature, compute_gamma(kx, ky, chi_perp, chi_par, curvature))\n"
      ]
    },
    {
      "cell_type": "code",
      "execution_count": 56,
      "id": "500d2c13-c059-4f6d-86fe-677abda45441",
      "metadata": {
        "id": "500d2c13-c059-4f6d-86fe-677abda45441"
      },
      "outputs": [],
      "source": [
        "# number of entries\n",
        "N_runs = 1000# to be filled"
      ]
    },
    {
      "cell_type": "code",
      "execution_count": 60,
      "id": "3a41ae4c-cd56-4c3c-b2e2-aa161fb95f8e",
      "metadata": {
        "id": "3a41ae4c-cd56-4c3c-b2e2-aa161fb95f8e"
      },
      "outputs": [],
      "source": [
        "# put here the code to generate a list of N_runs data samples\n",
        "data = []\n",
        "for i in range(N_runs):\n",
        "  kx,ky,chi_perp,chi_par,curv,gamma = generate_sample()\n",
        "  data.append([kx,ky,chi_perp,chi_par,curv,gamma])"
      ]
    },
    {
      "cell_type": "code",
      "execution_count": 61,
      "id": "4092864a-e0b8-4577-9ce6-6d57226fe2d0",
      "metadata": {
        "colab": {
          "base_uri": "https://localhost:8080/",
          "height": 451
        },
        "id": "4092864a-e0b8-4577-9ce6-6d57226fe2d0",
        "outputId": "22d78fc2-ca1e-42b0-a74d-af8d65f263fe"
      },
      "outputs": [
        {
          "output_type": "execute_result",
          "data": {
            "text/plain": [
              "<Axes: ylabel='Frequency'>"
            ]
          },
          "metadata": {},
          "execution_count": 61
        },
        {
          "output_type": "display_data",
          "data": {
            "text/plain": [
              "<Figure size 640x480 with 1 Axes>"
            ],
            "image/png": "[encoded data removed]"
          },
          "metadata": {}
        }
      ],
      "source": [
        "# and here for the conversion to a pandas dataframe\n",
        "df_gamma = pd.DataFrame(data, columns = (\"kx\", \"ky\",\n",
        "\"chi_perp\", \"chi_par\", \"C\", \"gamma\"))\n",
        "df_gamma = df_gamma.sample(frac=1).reset_index(drop=True)\n",
        "df_gamma.gamma.plot(kind='hist')"
      ]
    },
    {
      "cell_type": "code",
      "execution_count": 62,
      "id": "8df0045e-b589-4d78-9b1e-16c88d853b55",
      "metadata": {
        "colab": {
          "base_uri": "https://localhost:8080/",
          "height": 430
        },
        "id": "8df0045e-b589-4d78-9b1e-16c88d853b55",
        "outputId": "9a2fa0ce-8ba9-4ddb-d263-1b8d81ab952b"
      },
      "outputs": [
        {
          "output_type": "display_data",
          "data": {
            "text/plain": [
              "<Figure size 640x480 with 1 Axes>"
            ],
            "image/png": "[encoded data removed]"
          },
          "metadata": {}
        }
      ],
      "source": [
        "# Question 4 : Data Splitting\n",
        "from sklearn.model_selection import train_test_split\n",
        "train, test = train_test_split(df_gamma, test_size=0.2,\n",
        "random_state=42, shuffle=True)\n",
        "\n",
        "plt.figure()\n",
        "train.gamma.plot(kind='hist')\n",
        "test.gamma.plot(kind='hist')\n",
        "plt.show()\n",
        "\n",
        "\n"
      ]
    },
    {
      "cell_type": "markdown",
      "id": "5f338a7f-2c76-497e-b7a0-f8dac0e42287",
      "metadata": {
        "id": "5f338a7f-2c76-497e-b7a0-f8dac0e42287"
      },
      "source": [
        "# Section 1 - Simple Perceptron"
      ]
    },
    {
      "cell_type": "markdown",
      "id": "a235eb18-4a7e-4860-a182-6b8a8cf9d7b0",
      "metadata": {
        "id": "a235eb18-4a7e-4860-a182-6b8a8cf9d7b0"
      },
      "source": [
        "### Necessary Imports"
      ]
    },
    {
      "cell_type": "code",
      "execution_count": 63,
      "id": "97ec3bba-0c3c-48fd-9875-10187f042846",
      "metadata": {
        "id": "97ec3bba-0c3c-48fd-9875-10187f042846"
      },
      "outputs": [],
      "source": [
        "from keras.models import Sequential\n",
        "from keras.layers import Input, Dense\n"
      ]
    },
    {
      "cell_type": "markdown",
      "id": "9a3d8aaa-75b0-42ba-9a64-500adb9def10",
      "metadata": {
        "id": "9a3d8aaa-75b0-42ba-9a64-500adb9def10"
      },
      "source": [
        "### machine learning model generation"
      ]
    },
    {
      "cell_type": "code",
      "execution_count": null,
      "id": "c87ff19a-ef81-4f86-84e1-96247b36aeb0",
      "metadata": {
        "id": "c87ff19a-ef81-4f86-84e1-96247b36aeb0"
      },
      "outputs": [],
      "source": [
        "# create the model here\n",
        "\n",
        "\n"
      ]
    },
    {
      "cell_type": "markdown",
      "id": "9f9438a2-e0dc-4d87-b48a-53a084cff17d",
      "metadata": {
        "id": "9f9438a2-e0dc-4d87-b48a-53a084cff17d"
      },
      "source": [
        "### machine learning model compilation"
      ]
    },
    {
      "cell_type": "code",
      "execution_count": null,
      "id": "8ac05246-b666-4494-a785-b68f8d026d55",
      "metadata": {
        "id": "8ac05246-b666-4494-a785-b68f8d026d55"
      },
      "outputs": [],
      "source": [
        "# compile the model here\n",
        "\n",
        "\n"
      ]
    },
    {
      "cell_type": "code",
      "execution_count": null,
      "id": "dd4e48d7-532e-40a6-a7c8-1ede5ce68502",
      "metadata": {
        "id": "dd4e48d7-532e-40a6-a7c8-1ede5ce68502"
      },
      "outputs": [],
      "source": [
        "# train the model here\n",
        "\n",
        "\n"
      ]
    },
    {
      "cell_type": "markdown",
      "id": "16315889-64be-47c0-a6e6-51a09e57bb8b",
      "metadata": {
        "id": "16315889-64be-47c0-a6e6-51a09e57bb8b"
      },
      "source": [
        "### Loss function plot"
      ]
    },
    {
      "cell_type": "code",
      "execution_count": null,
      "id": "afe2dcca-a126-4d76-97d6-60e0231dd99e",
      "metadata": {
        "id": "afe2dcca-a126-4d76-97d6-60e0231dd99e"
      },
      "outputs": [],
      "source": [
        "# plot the loss function\n",
        "\n",
        "\n"
      ]
    },
    {
      "cell_type": "markdown",
      "id": "fae88960-e6a4-44ab-a5a9-0ae201d627f9",
      "metadata": {
        "id": "fae88960-e6a4-44ab-a5a9-0ae201d627f9"
      },
      "source": [
        "### Prediction Comparison"
      ]
    },
    {
      "cell_type": "code",
      "execution_count": null,
      "id": "b4e4255e-2f4d-4b49-9afd-a569c4caa539",
      "metadata": {
        "id": "b4e4255e-2f4d-4b49-9afd-a569c4caa539"
      },
      "outputs": [],
      "source": [
        "### predict the values of gamma for the x_test data\n",
        "\n",
        "\n"
      ]
    },
    {
      "cell_type": "code",
      "execution_count": null,
      "id": "51d01f85-331b-48ed-b85a-fb7e353e6075",
      "metadata": {
        "id": "51d01f85-331b-48ed-b85a-fb7e353e6075"
      },
      "outputs": [],
      "source": [
        "### make a plot to compare the predicted values with the expected ones\n",
        "\n",
        "\n"
      ]
    },
    {
      "cell_type": "markdown",
      "id": "4bd30568-3efb-4133-ad22-689a71c76b0b",
      "metadata": {
        "id": "4bd30568-3efb-4133-ad22-689a71c76b0b"
      },
      "source": [
        "### Overfitting and Underfitting"
      ]
    },
    {
      "cell_type": "code",
      "execution_count": null,
      "id": "007c8b0b-cb94-4264-bdd6-706404acfb19",
      "metadata": {
        "id": "007c8b0b-cb94-4264-bdd6-706404acfb19"
      },
      "outputs": [],
      "source": []
    },
    {
      "cell_type": "markdown",
      "id": "2ecab686-f96c-4813-97ab-4c823da7c528",
      "metadata": {
        "id": "2ecab686-f96c-4813-97ab-4c823da7c528"
      },
      "source": [
        "# Section 2 - Multi Layer Perceptron"
      ]
    },
    {
      "cell_type": "markdown",
      "id": "bd9c8f4b-8137-4e5c-bd61-42ea040d44b7",
      "metadata": {
        "id": "bd9c8f4b-8137-4e5c-bd61-42ea040d44b7"
      },
      "source": [
        "### Model creation"
      ]
    },
    {
      "cell_type": "code",
      "execution_count": null,
      "id": "8e36ce04-aa42-4a9c-a202-1bd761a085af",
      "metadata": {
        "id": "8e36ce04-aa42-4a9c-a202-1bd761a085af"
      },
      "outputs": [],
      "source": []
    },
    {
      "cell_type": "markdown",
      "id": "2290fcfb-6a53-4867-b3fc-94591aa89428",
      "metadata": {
        "id": "2290fcfb-6a53-4867-b3fc-94591aa89428"
      },
      "source": [
        "### Model training"
      ]
    },
    {
      "cell_type": "code",
      "execution_count": null,
      "id": "f2c9a0db-0246-473a-80d5-8baa6d80c8cb",
      "metadata": {
        "id": "f2c9a0db-0246-473a-80d5-8baa6d80c8cb"
      },
      "outputs": [],
      "source": []
    },
    {
      "cell_type": "markdown",
      "id": "3f0936a1-2a32-4e96-80cb-1e38920a7499",
      "metadata": {
        "id": "3f0936a1-2a32-4e96-80cb-1e38920a7499"
      },
      "source": [
        "### Influence of Batch Size"
      ]
    },
    {
      "cell_type": "code",
      "execution_count": null,
      "id": "86886702-d436-4e77-80df-383fbe2e4241",
      "metadata": {
        "id": "86886702-d436-4e77-80df-383fbe2e4241"
      },
      "outputs": [],
      "source": []
    }
  ],
  "metadata": {
    "kernelspec": {
      "display_name": "Python 3 (ipykernel)",
      "language": "python",
      "name": "python3"
    },
    "language_info": {
      "codemirror_mode": {
        "name": "ipython",
        "version": 3
      },
      "file_extension": ".py",
      "mimetype": "text/x-python",
      "name": "python",
      "nbconvert_exporter": "python",
      "pygments_lexer": "ipython3",
      "version": "3.10.8"
    },
    "colab": {
      "provenance": []
    }
  },
  "nbformat": 4,
  "nbformat_minor": 5
}